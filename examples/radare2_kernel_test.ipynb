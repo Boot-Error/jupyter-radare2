{
 "cells": [
  {
   "cell_type": "code",
   "execution_count": 1,
   "metadata": {
    "collapsed": false
   },
   "outputs": [
    {
     "name": "stdout",
     "output_type": "stream",
     "text": [
      "9"
     ]
    }
   ],
   "source": [
    "o /bin/ls"
   ]
  },
  {
   "cell_type": "code",
   "execution_count": 2,
   "metadata": {
    "collapsed": false
   },
   "outputs": [
    {
     "name": "stdout",
     "output_type": "stream",
     "text": [
      "arch     x86\n",
      "binsz    128811\n",
      "bintype  elf\n",
      "bits     64\n",
      "canary   true\n",
      "class    ELF64\n",
      "crypto   false\n",
      "endian   little\n",
      "havecode true\n",
      "intrp    /lib64/ld-linux-x86-64.so.2\n",
      "lang     c\n",
      "linenum  false\n",
      "lsyms    false\n",
      "machine  AMD x86-64 architecture\n",
      "maxopsz  16\n",
      "minopsz  1\n",
      "nx       true\n",
      "os       linux\n",
      "pcalign  0\n",
      "pic      true\n",
      "relocs   false\n",
      "relro    partial relro\n",
      "rpath    NONE\n",
      "static   false\n",
      "stripped true\n",
      "subsys   linux\n",
      "va       true"
     ]
    }
   ],
   "source": [
    "iI"
   ]
  },
  {
   "cell_type": "code",
   "execution_count": 3,
   "metadata": {
    "collapsed": false
   },
   "outputs": [
    {
     "name": "stdout",
     "output_type": "stream",
     "text": [
      ";-- entry0:\n",
      "            0x00005430      31ed           xor ebp, ebp\n",
      "            0x00005432      4989d1         mov r9, rdx\n",
      "            0x00005435      5e             pop rsi\n",
      "            0x00005436      4889e2         mov rdx, rsp\n",
      "            0x00005439      4883e4f0       and rsp, 0xfffffffffffffff0"
     ]
    }
   ],
   "source": [
    "pd 5"
   ]
  },
  {
   "cell_type": "code",
   "execution_count": 4,
   "metadata": {
    "collapsed": false
   },
   "outputs": [
    {
     "name": "stdout",
     "output_type": "stream",
     "text": []
    }
   ],
   "source": [
    "aaa"
   ]
  },
  {
   "cell_type": "code",
   "execution_count": 5,
   "metadata": {
    "collapsed": false
   },
   "outputs": [
    {
     "name": "stdout",
     "output_type": "stream",
     "text": []
    }
   ],
   "source": [
    "s fcn.main"
   ]
  },
  {
   "cell_type": "code",
   "execution_count": 6,
   "metadata": {
    "collapsed": false
   },
   "outputs": [
    {
     "name": "stdout",
     "output_type": "stream",
     "text": [
      "0x00003640    2 16   -> 48   sym.imp.textdomain\n",
      "0x00003680    2 16   -> 48   sym.imp.bindtextdomain\n",
      "0x00003bb0    8 337          main"
     ]
    }
   ],
   "source": [
    "afl~main"
   ]
  },
  {
   "cell_type": "code",
   "execution_count": 7,
   "metadata": {
    "collapsed": false
   },
   "outputs": [
    {
     "name": "stdout",
     "output_type": "stream",
     "text": [
      "- offset -   0 1  2 3  4 5  6 7  8 9  A B  C D  E F  0123456789ABCDEF\n",
      "0x00003bb0  4157 4156 4155 4154 4189 fc55 5348 89f5  AWAVAUATA..USH..\n",
      "0x00003bc0  4883 ec48 488b 3e64 488b 0425 2800 0000  H..HH.>dH..%(...\n",
      "0x00003bd0  4889 4424 3831 c0e8 a4bb 0000 488d 35b2  H.D$81......H.5.\n",
      "0x00003be0  6901 00bf 0600 0000 e803 feff ff48 8d35  i............H.5\n",
      "0x00003bf0  2d3a 0100 488d 3d0c 3a01 00e8 80fa ffff  -:..H.=.:.......\n",
      "0x00003c00  488d 3d00 3a01 00e8 34fa ffff 488d 3ded  H.=.:...4...H.=.\n",
      "0x00003c10  8200 00c7 055b b921 0002 0000 00e8 fe1f  .....[.!........\n",
      "0x00003c20  0100 48b8 0000 0000 0000 0080 c705 5ac8  ..H...........Z.\n",
      "0x00003c30  2100 0000 0000 c605 fbc8 2100 0148 8905  !.........!..H..\n",
      "0x00003c40  acc9 2100 8b05 16b9 2100 48c7 05ab c921  ..!.....!.H....!\n",
      "0x00003c50  0000 0000 0048 c705 98c9 2100 ffff ffff  .....H....!.....\n",
      "0x00003c60  c605 f1c8 2100 0083 f802 0f84 1502 0000  ....!...........\n",
      "0x00003c70  83f8 0374 2f83 e801 7405 e8d1 f8ff ffbf  ...t/...t.......\n",
      "0x00003c80  0100 0000 e827 f9ff ff85 c00f 8424 0b00  .....'.......$..\n",
      "0x00003c90  00c7 051d c921 0002 0000 00c6 05b6 c821  .....!.........!\n",
      "0x00003ca0  0001 eb16 be07 0000 0031 ffc7 0503 c921  .........1.....!"
     ]
    }
   ],
   "source": [
    "px 256 @ 0x00003bb0"
   ]
  }
 ],
 "metadata": {
  "kernelspec": {
   "display_name": "radare2",
   "language": "",
   "name": "radare2"
  },
  "language_info": {
   "file_extension": ".r2",
   "mimetype": "text/plain",
   "name": "radare2"
  }
 },
 "nbformat": 4,
 "nbformat_minor": 2
}
